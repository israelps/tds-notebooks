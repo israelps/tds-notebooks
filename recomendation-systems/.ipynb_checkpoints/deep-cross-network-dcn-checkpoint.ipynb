{
 "cells": [
  {
   "cell_type": "code",
   "execution_count": 1,
   "id": "noted-scholarship",
   "metadata": {},
   "outputs": [],
   "source": [
    "import pprint\n",
    "\n",
    "import matplotlib.pyplot as plt\n",
    "from mpl_toolkits.axes_grid1 import make_axes_locatable\n",
    "\n",
    "import numpy as np\n",
    "import tensorflow as tf\n",
    "import tensorflow_datasets as tfds\n",
    "\n",
    "import tensorflow_recommenders as tfrs"
   ]
  },
  {
   "cell_type": "code",
   "execution_count": 2,
   "id": "sophisticated-principal",
   "metadata": {},
   "outputs": [
    {
     "data": {
      "text/plain": [
       "[PhysicalDevice(name='/physical_device:GPU:0', device_type='GPU')]"
      ]
     },
     "execution_count": 2,
     "metadata": {},
     "output_type": "execute_result"
    }
   ],
   "source": [
    "tf.config.list_physical_devices('GPU')"
   ]
  },
  {
   "cell_type": "code",
   "execution_count": 113,
   "id": "missing-lexington",
   "metadata": {},
   "outputs": [],
   "source": [
    "def get_mixer_data(data_size=100_000, random_seed=42):\n",
    "  # We need to fix the random seed\n",
    "  # to make colab runs repeatable.\n",
    "  rng = np.random.RandomState(random_seed)\n",
    "  country = rng.randint(200, size=[data_size, 1]) / 200.\n",
    "  bananas = rng.randint(24, size=[data_size, 1]) / 24.\n",
    "  coockbooks = rng.randint(6, size=[data_size, 1]) / 6.\n",
    "\n",
    "  x = np.concatenate([country, bananas, coockbooks], axis=1)\n",
    "\n",
    "  # # Create 1st-order terms.\n",
    "  y = 0.1 * country + 0.4 * bananas + 0.7 * coockbooks\n",
    "\n",
    "  # Create 2nd-order cross terms.\n",
    "  y += 0.1 * country * bananas + 3.1 * bananas * coockbooks + (\n",
    "        0.1 * coockbooks * coockbooks)\n",
    "\n",
    "  return x, y"
   ]
  },
  {
   "cell_type": "code",
   "execution_count": 29,
   "id": "decimal-commonwealth",
   "metadata": {},
   "outputs": [],
   "source": [
    "def get_mixer_data(data_size=300_000, random_seed=42):\n",
    "  # We need to fix the random seed\n",
    "  # to make colab runs repeatable.\n",
    "  rng = np.random.RandomState(random_seed)\n",
    "  country = rng.randint(200, size=[data_size, 1]) / 200.0\n",
    "  bananas = rng.randint(24, size=[data_size, 1]) / 24.0\n",
    "  coockbooks = rng.randint(6, size=[data_size, 1]) / 6.0\n",
    "  oranges = rng.randint(300000, size=[data_size, 1]) / 300000.0\n",
    "\n",
    "  x = np.concatenate([country, bananas, coockbooks, oranges], axis=1)\n",
    "\n",
    "  # # Create 1st-order terms.\n",
    "  y = 0.01 * country + 0.04 * bananas + 0.09 * coockbooks + 0.01*oranges #0.15\n",
    "\n",
    "  # Create 2nd-order cross terms.\n",
    "  y += 0.01 * country * bananas + 0.4 * bananas * coockbooks + (0.03 * coockbooks * coockbooks) + 0.01*oranges*bananas #0.45\n",
    "    \n",
    "  y+= 0.4*country*oranges*coockbooks #0.4\n",
    "\n",
    "  y = np.where(y >= 0.5, 1, 0)\n",
    "\n",
    "  return x, y"
   ]
  },
  {
   "cell_type": "code",
   "execution_count": 30,
   "id": "pursuant-mechanics",
   "metadata": {},
   "outputs": [],
   "source": [
    "data_size = 100000\n",
    "x, y = get_mixer_data(data_size=data_size)\n",
    "num_train = int(data_size*0.80)\n",
    "train_x = x[:num_train]\n",
    "train_y = y[:num_train]\n",
    "eval_x = x[num_train:]\n",
    "eval_y = y[num_train:]"
   ]
  },
  {
   "cell_type": "code",
   "execution_count": 31,
   "id": "eight-spirit",
   "metadata": {},
   "outputs": [
    {
     "data": {
      "text/plain": [
       "3495"
      ]
     },
     "execution_count": 31,
     "metadata": {},
     "output_type": "execute_result"
    }
   ],
   "source": [
    "y.sum()"
   ]
  },
  {
   "cell_type": "code",
   "execution_count": 32,
   "id": "earned-design",
   "metadata": {},
   "outputs": [],
   "source": [
    "class Model(tfrs.Model):\n",
    "\n",
    "  def __init__(self, model):\n",
    "    super().__init__()\n",
    "    self._model = model\n",
    "    self._logit_layer = tf.keras.layers.Dense(1, activation='sigmoid')\n",
    "\n",
    "    self.task = tfrs.tasks.Ranking(\n",
    "      loss=tf.keras.losses.BinaryCrossentropy(),\n",
    "      metrics=[\n",
    "        tf.keras.metrics.CategoricalHinge(\"RMSE\")\n",
    "      ]\n",
    "    )\n",
    "\n",
    "  def call(self, x):\n",
    "    x = self._model(x)\n",
    "    return self._logit_layer(x)\n",
    "\n",
    "  def compute_loss(self, features, training=False):\n",
    "    x, labels = features\n",
    "    scores = self(x)\n",
    "\n",
    "    return self.task(\n",
    "        labels=labels,\n",
    "        predictions=scores,\n",
    "    )"
   ]
  },
  {
   "cell_type": "code",
   "execution_count": 33,
   "id": "broadband-capacity",
   "metadata": {},
   "outputs": [],
   "source": [
    "deepnet = Model(\n",
    "    tf.keras.Sequential([\n",
    "      tf.keras.layers.Dense(512, activation=\"relu\"),\n",
    "      tf.keras.layers.Dense(256, activation=\"relu\"),\n",
    "      tf.keras.layers.Dense(128, activation=\"relu\"),\n",
    "    ])\n",
    ")"
   ]
  },
  {
   "cell_type": "code",
   "execution_count": 34,
   "id": "continent-aquarium",
   "metadata": {},
   "outputs": [],
   "source": [
    "x0 = tf.keras.Input(shape=(4,), name='index', dtype=tf.float32)\n",
    "x1 = tfrs.layers.dcn.Cross(name='dcn1')(x0)\n",
    "x2 = tfrs.layers.dcn.Cross(name='dcn2')(x1,x0)\n",
    "x3 = tfrs.layers.dcn.Cross(name='dcn3')(x2,x0)\n",
    "\n",
    "d1 = tf.keras.layers.Dense(units=64, name='dense1', activation='relu')(x2)\n",
    "d2 = tf.keras.layers.Dense(units=32, name='dense2', activation='relu')(d1)\n",
    "d3 = tf.keras.layers.Dense(units=16, name='dense3', activation='relu')(d2)\n",
    "\n",
    "concat = tf.keras.layers.Concatenate()([x2,d3])\n",
    "#output = tf.keras.layers.Dense(units=3, name='dense2')(x1)\n",
    "crossnet_model = tf.keras.Model(x0, x1)\n",
    "\n",
    "crossnet = Model(crossnet_model)"
   ]
  },
  {
   "cell_type": "code",
   "execution_count": 35,
   "id": "prostate-romantic",
   "metadata": {},
   "outputs": [
    {
     "data": {
      "image/png": "[encoded data removed]",
      "text/plain": [
       "<IPython.core.display.Image object>"
      ]
     },
     "execution_count": 35,
     "metadata": {},
     "output_type": "execute_result"
    }
   ],
   "source": [
    "from tensorflow.keras.utils import plot_model\n",
    "\n",
    "plot_model(crossnet_model, show_shapes=True, show_layer_names=True)"
   ]
  },
  {
   "cell_type": "code",
   "execution_count": 36,
   "id": "seasonal-edinburgh",
   "metadata": {},
   "outputs": [],
   "source": [
    "train_data = tf.data.Dataset.from_tensor_slices((train_x, train_y)).batch(1000)\n",
    "eval_data = tf.data.Dataset.from_tensor_slices((eval_x, eval_y)).batch(1000)"
   ]
  },
  {
   "cell_type": "code",
   "execution_count": 37,
   "id": "abandoned-chancellor",
   "metadata": {},
   "outputs": [],
   "source": [
    "epochs = 100\n",
    "learning_rate = 0.4"
   ]
  },
  {
   "cell_type": "code",
   "execution_count": 38,
   "id": "charming-offer",
   "metadata": {},
   "outputs": [
    {
     "name": "stdout",
     "output_type": "stream",
     "text": [
      "CrossNet(1 layer) RMSE is 0.9713 using 27 parameters.\n"
     ]
    }
   ],
   "source": [
    "crossnet.compile(optimizer=tf.keras.optimizers.Adagrad(learning_rate))\n",
    "crossnet.fit(train_data, epochs=epochs, verbose=False)\n",
    "\n",
    "crossnet_result = crossnet.evaluate(eval_data, return_dict=True, verbose=False)\n",
    "print(f\"CrossNet(1 layer) RMSE is {crossnet_result['RMSE']:.4f} \"\n",
    "      f\"using {crossnet.count_params()} parameters.\")"
   ]
  },
  {
   "cell_type": "code",
   "execution_count": 39,
   "id": "early-ottawa",
   "metadata": {},
   "outputs": [
    {
     "name": "stdout",
     "output_type": "stream",
     "text": [
      "DeepNet(large) RMSE is 0.9691 using 166915 parameters.\n"
     ]
    }
   ],
   "source": [
    "deepnet.compile(optimizer=tf.keras.optimizers.Adagrad(learning_rate))\n",
    "deepnet.fit(train_data, epochs=epochs, verbose=False)\n",
    "\n",
    "deepnet_result = deepnet.evaluate(eval_data, return_dict=True, verbose=False)\n",
    "print(f\"DeepNet(large) RMSE is {deepnet_result['RMSE']:.4f} \"\n",
    "      f\"using {deepnet.count_params()} parameters.\")"
   ]
  },
  {
   "cell_type": "code",
   "execution_count": 40,
   "id": "incident-chess",
   "metadata": {},
   "outputs": [
    {
     "name": "stdout",
     "output_type": "stream",
     "text": [
      "CrossNet(1 layer) RMSE is 0.9713 using 27 parameters.\n",
      "DeepNet(large) RMSE is 0.9691 using 166915 parameters.\n"
     ]
    }
   ],
   "source": [
    "crossnet_result = crossnet.evaluate(eval_data, return_dict=True, verbose=False)\n",
    "print(f\"CrossNet(1 layer) RMSE is {crossnet_result['RMSE']:.4f} \"\n",
    "      f\"using {crossnet.count_params()} parameters.\")\n",
    "\n",
    "deepnet_result = deepnet.evaluate(eval_data, return_dict=True, verbose=False)\n",
    "print(f\"DeepNet(large) RMSE is {deepnet_result['RMSE']:.4f} \"\n",
    "      f\"using {deepnet.count_params()} parameters.\")"
   ]
  },
  {
   "cell_type": "code",
   "execution_count": 41,
   "id": "corporate-recall",
   "metadata": {},
   "outputs": [
    {
     "data": {
      "text/plain": [
       "[<tensorflow.python.keras.engine.input_layer.InputLayer at 0x7f97442111c0>,\n",
       " <tensorflow_recommenders.layers.dcn.Cross at 0x7f9744210a90>]"
      ]
     },
     "execution_count": 41,
     "metadata": {},
     "output_type": "execute_result"
    }
   ],
   "source": [
    "crossnet._model.layers"
   ]
  },
  {
   "cell_type": "code",
   "execution_count": 42,
   "id": "frequent-engine",
   "metadata": {},
   "outputs": [
    {
     "name": "stderr",
     "output_type": "stream",
     "text": [
      "<ipython-input-42-910937785b28>:11: UserWarning: FixedFormatter should only be used together with FixedLocator\n",
      "  _ = ax.set_xticklabels([''] + features, rotation=45, fontsize=10)\n",
      "<ipython-input-42-910937785b28>:12: UserWarning: FixedFormatter should only be used together with FixedLocator\n",
      "  _ = ax.set_yticklabels([''] + features, fontsize=10)\n"
     ]
    },
    {
     "data": {
      "text/plain": [
       "<Figure size 648x648 with 0 Axes>"
      ]
     },
     "metadata": {},
     "output_type": "display_data"
    },
    {
     "data": {
      "image/png": "[encoded data removed]",
      "text/plain": [
       "<Figure size 288x288 with 2 Axes>"
      ]
     },
     "metadata": {
      "needs_background": "light"
     },
     "output_type": "display_data"
    }
   ],
   "source": [
    "mat = crossnet._model.layers[1]._dense.kernel\n",
    "features = [\"country\", \"bananas\", \"cookbooks\",\"oranges\"]\n",
    "\n",
    "plt.figure(figsize=(9,9))\n",
    "im = plt.matshow(np.abs(mat.numpy()), cmap=plt.cm.Blues)\n",
    "ax = plt.gca()\n",
    "divider = make_axes_locatable(plt.gca())\n",
    "cax = divider.append_axes(\"right\", size=\"5%\", pad=0.05)\n",
    "plt.colorbar(im, cax=cax)\n",
    "cax.tick_params(labelsize=10) \n",
    "_ = ax.set_xticklabels([''] + features, rotation=45, fontsize=10)\n",
    "_ = ax.set_yticklabels([''] + features, fontsize=10)"
   ]
  },
  {
   "cell_type": "code",
   "execution_count": 19,
   "id": "announced-topic",
   "metadata": {},
   "outputs": [
    {
     "data": {
      "text/plain": [
       "<tf.Variable 'model_2/dense_4/kernel:0' shape=(4, 1) dtype=float32, numpy=\n",
       "array([[-6.1012163],\n",
       "       [-9.0223255],\n",
       "       [-9.344033 ],\n",
       "       [-9.321964 ]], dtype=float32)>"
      ]
     },
     "execution_count": 19,
     "metadata": {},
     "output_type": "execute_result"
    }
   ],
   "source": [
    "crossnet._logit_layer.kernel"
   ]
  },
  {
   "cell_type": "code",
   "execution_count": null,
   "id": "supposed-pickup",
   "metadata": {},
   "outputs": [],
   "source": []
  },
  {
   "cell_type": "code",
   "execution_count": null,
   "id": "electrical-lighter",
   "metadata": {},
   "outputs": [],
   "source": []
  }
 ],
 "metadata": {
  "kernelspec": {
   "display_name": "Python 3",
   "language": "python",
   "name": "python3"
  },
  "language_info": {
   "codemirror_mode": {
    "name": "ipython",
    "version": 3
   },
   "file_extension": ".py",
   "mimetype": "text/x-python",
   "name": "python",
   "nbconvert_exporter": "python",
   "pygments_lexer": "ipython3",
   "version": "3.8.2"
  }
 },
 "nbformat": 4,
 "nbformat_minor": 5
}
